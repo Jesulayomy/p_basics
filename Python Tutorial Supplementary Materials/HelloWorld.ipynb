{
 "cells": [
  {
   "cell_type": "code",
   "execution_count": 12,
   "id": "f7ffe1a5",
   "metadata": {},
   "outputs": [],
   "source": [
    "import pandas as pd\n",
    "import joblib\n",
    "import sklearn\n",
    "from sklearn import tree\n",
    "from sklearn.metrics import accuracy_score\n",
    "from sklearn.tree import DecisionTreeClassifier\n",
    "from sklearn.model_selection import train_test_split\n",
    "\n",
    "music_data = pd.read_csv('music.csv')\n",
    "inp = music_data.drop(columns=['genre'])\n",
    "res = music_data['genre']\n",
    "\n",
    "inp_train, inp_test, res_train, res_test = train_test_split(inp, res, test_size=0.7)\n",
    "\n",
    "model = DecisionTreeClassifier()\n",
    "model.fit(inp.values, res)\n",
    "# model.fit(inp_train, res_train)\n",
    "\n",
    "tree.export_graphviz(model, out_file='music_recommender.dot',\n",
    "                     feature_names=['age', 'gender'],\n",
    "                     class_names=sorted(res.unique()), label='all',\n",
    "                     rounded=True, filled=True)\n",
    "\n",
    "# model = joblib.load('music-recommender.joblib')\n",
    "\n",
    "# predict = model.predict([[21, 1]])\n",
    "# n = accuracy_score(res_test, predict)"
   ]
  }
 ],
 "metadata": {
  "kernelspec": {
   "display_name": "Python 3 (ipykernel)",
   "language": "python",
   "name": "python3"
  },
  "language_info": {
   "codemirror_mode": {
    "name": "ipython",
    "version": 3
   },
   "file_extension": ".py",
   "mimetype": "text/x-python",
   "name": "python",
   "nbconvert_exporter": "python",
   "pygments_lexer": "ipython3",
   "version": "3.9.13"
  }
 },
 "nbformat": 4,
 "nbformat_minor": 5
}
