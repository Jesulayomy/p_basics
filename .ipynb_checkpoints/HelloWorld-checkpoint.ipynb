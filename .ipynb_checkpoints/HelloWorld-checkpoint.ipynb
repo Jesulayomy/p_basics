{
 "cells": [
  {
   "cell_type": "code",
   "execution_count": 7,
   "id": "f7ffe1a5",
   "metadata": {},
   "outputs": [
    {
     "name": "stderr",
     "output_type": "stream",
     "text": [
      "C:\\ProgramData\\Anaconda3\\lib\\site-packages\\sklearn\\base.py:450: UserWarning: X does not have valid feature names, but DecisionTreeClassifier was fitted with feature names\n",
      "  warnings.warn(\n"
     ]
    }
   ],
   "source": [
    "import pandas as pd\n",
    "import joblib\n",
    "import sklearn\n",
    "from sklearn.metrics import accuracy_score\n",
    "from sklearn.tree import DecisionTreeClassifier\n",
    "from sklearn.model_selection import train_test_split\n",
    "\n",
    "# music_data = pd.read_csv('music.csv')\n",
    "# inp = music_data.drop(columns=['genre'])\n",
    "# res = music_data['genre']\n",
    "\n",
    "# inp_train, inp_test, res_train, res_test = train_test_split(inp, res, test_size=0.7)\n",
    "\n",
    "# model = DecisionTreeClassifier()\n",
    "# model.fit(inp_train, res_train)\n",
    "\n",
    "model = joblib.load('music-recommender.joblib')\n",
    "\n",
    "predict = model.predict([[21, 1]])\n",
    "predict\n",
    "# n = accuracy_score(res_test, predict)"
   ]
  }
 ],
 "metadata": {
  "kernelspec": {
   "display_name": "Python 3 (ipykernel)",
   "language": "python",
   "name": "python3"
  },
  "language_info": {
   "codemirror_mode": {
    "name": "ipython",
    "version": 3
   },
   "file_extension": ".py",
   "mimetype": "text/x-python",
   "name": "python",
   "nbconvert_exporter": "python",
   "pygments_lexer": "ipython3",
   "version": "3.9.13"
  }
 },
 "nbformat": 4,
 "nbformat_minor": 5
}
